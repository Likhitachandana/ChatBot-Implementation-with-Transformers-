{
 "cells": [
  {
   "cell_type": "code",
   "execution_count": 1,
   "metadata": {
    "_cell_guid": "9618f2a5-b19c-4894-a434-f85290db511e",
    "_uuid": "d472ec82-03cb-4a66-b602-40a573d07cf9",
    "execution": {
     "iopub.execute_input": "2023-04-25T12:53:55.159163Z",
     "iopub.status.busy": "2023-04-25T12:53:55.158108Z",
     "iopub.status.idle": "2023-04-25T12:54:11.401480Z",
     "shell.execute_reply": "2023-04-25T12:54:11.400237Z",
     "shell.execute_reply.started": "2023-04-25T12:53:55.159100Z"
    },
    "jupyter": {
     "outputs_hidden": false
    }
   },
   "outputs": [],
   "source": [
    "from sklearn.model_selection import train_test_split\n",
    "\n",
    "from transformers import T5Tokenizer, T5ForConditionalGeneration  \n",
    "\n",
    "from transformers import AdamW\n",
    "import pandas as pd\n",
    "import torch\n",
    "import pytorch_lightning as pl\n",
    "from pytorch_lightning.callbacks import ModelCheckpoint\n",
    "from torch.nn.utils.rnn import pad_sequence\n",
    "# from torch.utils.data import Dataset, DataLoader, random_split, RandomSampler, SequentialSampler\n",
    "\n",
    "pl.seed_everything(100)\n",
    "import warnings\n",
    "warnings.filterwarnings(\"ignore\")"
   ]
  },
  {
   "cell_type": "code",
   "execution_count": 2,
   "metadata": {
    "_cell_guid": "b900d634-5002-47c6-a97f-9671289cf6a0",
    "_uuid": "43bd6edc-22c8-4922-a9b1-20c27e03a542",
    "execution": {
     "iopub.execute_input": "2023-04-25T12:54:11.404846Z",
     "iopub.status.busy": "2023-04-25T12:54:11.404442Z",
     "iopub.status.idle": "2023-04-25T12:54:11.919079Z",
     "shell.execute_reply": "2023-04-25T12:54:11.917927Z",
     "shell.execute_reply.started": "2023-04-25T12:54:11.404797Z"
    },
    "jupyter": {
     "outputs_hidden": false
    }
   },
   "outputs": [],
   "source": [
    "data = pd.read_excel('/kaggle/input/mine12/Conversation_Chatbot.xlsx')"
   ]
  },
  {
   "cell_type": "code",
   "execution_count": 3,
   "metadata": {
    "_cell_guid": "46025d96-1952-4986-92b8-1ac684432084",
    "_uuid": "76287f91-76ac-4d8b-b28a-ba675902c60e",
    "execution": {
     "iopub.execute_input": "2023-04-25T12:54:11.921476Z",
     "iopub.status.busy": "2023-04-25T12:54:11.920721Z",
     "iopub.status.idle": "2023-04-25T12:54:11.928704Z",
     "shell.execute_reply": "2023-04-25T12:54:11.927183Z",
     "shell.execute_reply.started": "2023-04-25T12:54:11.921442Z"
    },
    "jupyter": {
     "outputs_hidden": false
    }
   },
   "outputs": [
    {
     "name": "stdout",
     "output_type": "stream",
     "text": [
      "No of rows: 130\n"
     ]
    }
   ],
   "source": [
    "print(\"No of rows:\" ,data.shape[0])"
   ]
  },
  {
   "cell_type": "markdown",
   "metadata": {
    "_cell_guid": "7570af97-ef24-4c51-87ec-0f98fe3b2e95",
    "_uuid": "e16d6dce-b8ee-4e76-b811-3b6595c37ccb"
   },
   "source": [
    "Here **PyTorch-lightning** is used: PyTorch Lightning is a lightweight interface for PyTorch that simplifies the process of training deep learning models. It provides pre-built components and features for common tasks, making the code more modular and reusable. PyTorch Lightning also provides various features such as automatic checkpointing, distributed training, and multi-GPU training. It follows a strict design pattern and provides hooks and callbacks for customization. It is compatible with various hardware platforms such as CPUs and GPUs."
   ]
  },
  {
   "cell_type": "code",
   "execution_count": 4,
   "metadata": {
    "_cell_guid": "0362588d-f09d-4736-9dcb-36ca1f27bd9c",
    "_uuid": "0028832a-f0d2-49c8-9844-3c7266f41678",
    "execution": {
     "iopub.execute_input": "2023-04-25T12:54:11.933602Z",
     "iopub.status.busy": "2023-04-25T12:54:11.932767Z",
     "iopub.status.idle": "2023-04-25T12:54:11.940723Z",
     "shell.execute_reply": "2023-04-25T12:54:11.939299Z",
     "shell.execute_reply.started": "2023-04-25T12:54:11.933559Z"
    },
    "jupyter": {
     "outputs_hidden": false
    }
   },
   "outputs": [
    {
     "name": "stdout",
     "output_type": "stream",
     "text": [
      "No of rows: 130\n"
     ]
    }
   ],
   "source": [
    "\n",
    "print(\"No of rows:\" ,data.shape[0])"
   ]
  },
  {
   "cell_type": "markdown",
   "metadata": {
    "_cell_guid": "2628d811-cc9f-4522-ad6e-eecba6c66bb7",
    "_uuid": "baed5979-edf1-42bb-8afd-e65554fd7fa6"
   },
   "source": [
    "The task is to create a conversational model that can generate natural and engaging responses to a given input text. The model should be able to understand the context of the conversation and generate appropriate responses that are relevant to the topic and flow of the conversation. Additionally, the model should be able to handle open-ended conversations, where the topic can change dynamically, and maintain coherence throughout the conversation."
   ]
  },
  {
   "cell_type": "code",
   "execution_count": 5,
   "metadata": {
    "_cell_guid": "c40d80af-0b18-46b6-a5c4-ba0b18e9726e",
    "_uuid": "5d643471-3b3a-41e9-9c6e-ab3344c594b2",
    "execution": {
     "iopub.execute_input": "2023-04-25T12:54:11.943649Z",
     "iopub.status.busy": "2023-04-25T12:54:11.942753Z",
     "iopub.status.idle": "2023-04-25T12:54:12.056712Z",
     "shell.execute_reply": "2023-04-25T12:54:12.055388Z",
     "shell.execute_reply.started": "2023-04-25T12:54:11.943607Z"
    },
    "jupyter": {
     "outputs_hidden": false
    }
   },
   "outputs": [],
   "source": [
    "DEVICE = torch.device('cuda' if torch.cuda.is_available() else 'cpu')\n",
    "INPUT_MAX_LEN = 128 #input length\n",
    "OUTPUT_MAX_LEN = 128 # output length\n",
    "TRAIN_BATCH_SIZE = 8 # batch size of training\n",
    "VAL_BATCH_SIZE = 2 # batch size for validation\n",
    "EPOCHS = 5 # number of epoch"
   ]
  },
  {
   "cell_type": "code",
   "execution_count": 6,
   "metadata": {
    "_cell_guid": "feda67a9-20e7-44e2-996c-e0448192d947",
    "_uuid": "f8f2e484-e9a0-4b1f-8302-577fe74ffc2d",
    "execution": {
     "iopub.execute_input": "2023-04-25T12:54:12.059872Z",
     "iopub.status.busy": "2023-04-25T12:54:12.059053Z",
     "iopub.status.idle": "2023-04-25T12:55:00.424295Z",
     "shell.execute_reply": "2023-04-25T12:55:00.423257Z",
     "shell.execute_reply.started": "2023-04-25T12:54:12.059823Z"
    },
    "jupyter": {
     "outputs_hidden": false
    }
   },
   "outputs": [
    {
     "data": {
      "application/vnd.jupyter.widget-view+json": {
       "model_id": "ec01acdd6b4740e4a132d3aa79fd935b",
       "version_major": 2,
       "version_minor": 0
      },
      "text/plain": [
       "Downloading (…)ve/main/spiece.model:   0%|          | 0.00/792k [00:00<?, ?B/s]"
      ]
     },
     "metadata": {},
     "output_type": "display_data"
    },
    {
     "data": {
      "application/vnd.jupyter.widget-view+json": {
       "model_id": "3f94db84d89d473d99163cb7c78b1005",
       "version_major": 2,
       "version_minor": 0
      },
      "text/plain": [
       "Downloading (…)lve/main/config.json:   0%|          | 0.00/1.21k [00:00<?, ?B/s]"
      ]
     },
     "metadata": {},
     "output_type": "display_data"
    }
   ],
   "source": [
    "MODEL_NAME = \"t5-base\"\n",
    "tokenizer = T5Tokenizer.from_pretrained(MODEL_NAME, model_max_length=512)"
   ]
  },
  {
   "cell_type": "markdown",
   "metadata": {
    "_cell_guid": "d671ab2f-4781-405e-8d6d-359ab5dd5af9",
    "_uuid": "908241be-608a-45c3-b323-45b17da24f4d"
   },
   "source": [
    "Example of how T5 Tokenizer actually work."
   ]
  },
  {
   "cell_type": "code",
   "execution_count": 7,
   "metadata": {
    "_cell_guid": "22ca0b1d-f3e5-466d-b197-a9185b7d17c4",
    "_uuid": "33a9bc24-b18a-4213-8fb2-cece6b10a4d9",
    "execution": {
     "iopub.execute_input": "2023-04-25T12:55:00.426587Z",
     "iopub.status.busy": "2023-04-25T12:55:00.426176Z",
     "iopub.status.idle": "2023-04-25T12:55:00.433229Z",
     "shell.execute_reply": "2023-04-25T12:55:00.432023Z",
     "shell.execute_reply.started": "2023-04-25T12:55:00.426548Z"
    },
    "jupyter": {
     "outputs_hidden": false
    }
   },
   "outputs": [],
   "source": [
    "text = \"Hello, how are you today?\"    # assume the text that is to be tokenized \n",
    "\n",
    "input_tokenize = tokenizer( \n",
    "             text,\n",
    "            add_special_tokens=True,        #Add Special tokens like [CLS] and [SEP]\n",
    "            max_length=128,\n",
    "            padding = 'max_length',         #for padding to max_length for equal sequence length\n",
    "            truncation = True,              #truncate the text if it is greater than max_length\n",
    "            return_attention_mask=True,     #will return attention mask\n",
    "            return_tensors=\"pt\"             #return tensor formate\n",
    "        )"
   ]
  },
  {
   "cell_type": "code",
   "execution_count": 8,
   "metadata": {
    "_cell_guid": "47d78d94-9137-4b04-bc25-e4d9f06493f7",
    "_uuid": "2d2e9aba-35ad-4e7d-89fc-2208ca6a6e4e",
    "execution": {
     "iopub.execute_input": "2023-04-25T12:55:00.435929Z",
     "iopub.status.busy": "2023-04-25T12:55:00.435067Z",
     "iopub.status.idle": "2023-04-25T12:55:00.475062Z",
     "shell.execute_reply": "2023-04-25T12:55:00.473827Z",
     "shell.execute_reply.started": "2023-04-25T12:55:00.435887Z"
    },
    "jupyter": {
     "outputs_hidden": false
    }
   },
   "outputs": [
    {
     "name": "stdout",
     "output_type": "stream",
     "text": [
      "input_ids:  tensor([8774,    6,  149,   33,   25,  469,   58,    1,    0,    0,    0,    0,\n",
      "           0,    0,    0,    0,    0,    0,    0,    0,    0,    0,    0,    0,\n",
      "           0,    0,    0,    0,    0,    0,    0,    0,    0,    0,    0,    0,\n",
      "           0,    0,    0,    0,    0,    0,    0,    0,    0,    0,    0,    0,\n",
      "           0,    0,    0,    0,    0,    0,    0,    0,    0,    0,    0,    0,\n",
      "           0,    0,    0,    0,    0,    0,    0,    0,    0,    0,    0,    0,\n",
      "           0,    0,    0,    0,    0,    0,    0,    0,    0,    0,    0,    0,\n",
      "           0,    0,    0,    0,    0,    0,    0,    0,    0,    0,    0,    0,\n",
      "           0,    0,    0,    0,    0,    0,    0,    0,    0,    0,    0,    0,\n",
      "           0,    0,    0,    0,    0,    0,    0,    0,    0,    0,    0,    0,\n",
      "           0,    0,    0,    0,    0,    0,    0,    0])\n",
      "-----------------------------------------------------------------------------\n",
      "Attention Mask:  tensor([1, 1, 1, 1, 1, 1, 1, 1, 0, 0, 0, 0, 0, 0, 0, 0, 0, 0, 0, 0, 0, 0, 0, 0,\n",
      "        0, 0, 0, 0, 0, 0, 0, 0, 0, 0, 0, 0, 0, 0, 0, 0, 0, 0, 0, 0, 0, 0, 0, 0,\n",
      "        0, 0, 0, 0, 0, 0, 0, 0, 0, 0, 0, 0, 0, 0, 0, 0, 0, 0, 0, 0, 0, 0, 0, 0,\n",
      "        0, 0, 0, 0, 0, 0, 0, 0, 0, 0, 0, 0, 0, 0, 0, 0, 0, 0, 0, 0, 0, 0, 0, 0,\n",
      "        0, 0, 0, 0, 0, 0, 0, 0, 0, 0, 0, 0, 0, 0, 0, 0, 0, 0, 0, 0, 0, 0, 0, 0,\n",
      "        0, 0, 0, 0, 0, 0, 0, 0])\n"
     ]
    }
   ],
   "source": [
    "print(\"input_ids: \", input_tokenize['input_ids'].flatten())\n",
    "print(\"-----------------------------------------------------------------------------\")\n",
    "print(\"Attention Mask: \", input_tokenize['attention_mask'].flatten())"
   ]
  },
  {
   "cell_type": "markdown",
   "metadata": {
    "_cell_guid": "c403b1e3-dcb2-4677-b4bf-619233af38a3",
    "_uuid": "ac6015e8-a3f5-4eb1-bb9d-91c8bc61e812"
   },
   "source": []
  },
  {
   "cell_type": "code",
   "execution_count": 9,
   "metadata": {
    "_cell_guid": "d0183544-e8fe-45bf-8033-31b8c411712f",
    "_uuid": "284f88b0-3772-4f0c-b8c3-a08ad617e9c0",
    "execution": {
     "iopub.execute_input": "2023-04-25T12:55:00.477297Z",
     "iopub.status.busy": "2023-04-25T12:55:00.476889Z",
     "iopub.status.idle": "2023-04-25T12:55:00.488585Z",
     "shell.execute_reply": "2023-04-25T12:55:00.487201Z",
     "shell.execute_reply.started": "2023-04-25T12:55:00.477258Z"
    },
    "jupyter": {
     "outputs_hidden": false
    }
   },
   "outputs": [],
   "source": [
    "class T5Dataset:\n",
    "    \n",
    "  def __init__(self,question,answer):   \n",
    "    \n",
    "    self.question = question\n",
    "    self.answer = answer\n",
    "    self.tokenizer = tokenizer\n",
    "    self.input_max_len = INPUT_MAX_LEN\n",
    "    self.output_max_len = OUTPUT_MAX_LEN\n",
    "  \n",
    "  def __len__(self):                      # This method retrives the number of item from the dataset\n",
    "    return len(self.question)\n",
    "\n",
    "  def __getitem__(self,item):             # This method retrieves the item at the specified index item. \n",
    "\n",
    "    question = str(self.question[item])\n",
    "    question = ''.join(question.split())\n",
    "\n",
    "    answer = str(self.answer[item])\n",
    "    answer = ''.join(answer.split())\n",
    "\n",
    "    input_tokenize = self.tokenizer(      \n",
    "            question,\n",
    "            add_special_tokens=True,\n",
    "            max_length=self.input_max_len,\n",
    "            padding = 'max_length',\n",
    "            truncation = True,\n",
    "            return_attention_mask=True,\n",
    "            return_tensors=\"pt\"\n",
    "        )\n",
    "    output_tokenize = self.tokenizer(\n",
    "            answer,\n",
    "            add_special_tokens=True,\n",
    "            max_length=self.output_max_len,\n",
    "            padding = 'max_length',\n",
    "            truncation = True,\n",
    "            return_attention_mask=True,\n",
    "            return_tensors=\"pt\"\n",
    "            \n",
    "        )\n",
    "    \n",
    "\n",
    "    input_ids = input_tokenize[\"input_ids\"].flatten()\n",
    "    attention_mask = input_tokenize[\"attention_mask\"].flatten()\n",
    "    labels = output_tokenize['input_ids'].flatten()\n",
    "\n",
    "    out = {\n",
    "            'question':question,      \n",
    "            'answer':answer,\n",
    "            'input_ids': input_ids,\n",
    "            'attention_mask':attention_mask,\n",
    "            'target':labels\n",
    "        }\n",
    "        \n",
    "    return out"
   ]
  },
  {
   "cell_type": "code",
   "execution_count": 10,
   "metadata": {
    "_cell_guid": "a6d2d7c3-bd4d-421c-b42d-ec82a66f7b22",
    "_uuid": "b7ced697-a34a-4a4d-aa06-07aed5727bdb",
    "execution": {
     "iopub.execute_input": "2023-04-25T12:55:00.494318Z",
     "iopub.status.busy": "2023-04-25T12:55:00.493805Z",
     "iopub.status.idle": "2023-04-25T12:55:00.504541Z",
     "shell.execute_reply": "2023-04-25T12:55:00.503165Z",
     "shell.execute_reply.started": "2023-04-25T12:55:00.494277Z"
    },
    "jupyter": {
     "outputs_hidden": false
    }
   },
   "outputs": [],
   "source": [
    "class T5DataLoad(pl.LightningDataModule):\n",
    "    \n",
    "    def __init__(self,df_train,df_test):\n",
    "        super().__init__()\n",
    "        self.df_train = df_train\n",
    "        self.df_test = df_test\n",
    "        self.tokenizer = tokenizer\n",
    "        self.input_max_len = INPUT_MAX_LEN\n",
    "        self.out_max_len = OUTPUT_MAX_LEN\n",
    "    \n",
    "    def setup(self, stage=None):\n",
    "        \n",
    "        self.train_data = T5Dataset(\n",
    "            question = self.df_train.question.values,\n",
    "            answer = self.df_train.answer.values\n",
    "        )\n",
    "        \n",
    "        self.valid_data = T5Dataset(\n",
    "            question = self.df_test.question.values,\n",
    "            answer = self.df_test.answer.values\n",
    "        )\n",
    "    def train_dataloader(self):\n",
    "        return torch.utils.data.DataLoader(\n",
    "         self.train_data,\n",
    "         batch_size= TRAIN_BATCH_SIZE,\n",
    "         shuffle=True, \n",
    "         num_workers=2\n",
    "        )\n",
    "    def val_dataloader(self):\n",
    "        return torch.utils.data.DataLoader(\n",
    "        self.valid_data,\n",
    "        batch_size= VAL_BATCH_SIZE,\n",
    "        num_workers = 2\n",
    "        )"
   ]
  },
  {
   "cell_type": "code",
   "execution_count": 11,
   "metadata": {
    "_cell_guid": "81a04725-f252-4627-8e85-42954d6539a4",
    "_uuid": "0da1db17-a915-429e-b3e5-8af7f2424da7",
    "execution": {
     "iopub.execute_input": "2023-04-25T12:55:00.506889Z",
     "iopub.status.busy": "2023-04-25T12:55:00.506432Z",
     "iopub.status.idle": "2023-04-25T12:55:00.520651Z",
     "shell.execute_reply": "2023-04-25T12:55:00.519530Z",
     "shell.execute_reply.started": "2023-04-25T12:55:00.506853Z"
    },
    "jupyter": {
     "outputs_hidden": false
    }
   },
   "outputs": [],
   "source": [
    "class T5Model(pl.LightningModule):\n",
    "    \n",
    "    def __init__(self):\n",
    "        super().__init__()\n",
    "        self.model = T5ForConditionalGeneration.from_pretrained(MODEL_NAME, return_dict = True)\n",
    "\n",
    "        \n",
    "    def forward(self, input_ids, attention_mask, labels=None):\n",
    "        \n",
    "        output = self.model(\n",
    "        input_ids=input_ids, \n",
    "        attention_mask=attention_mask, \n",
    "        labels=labels\n",
    "        )\n",
    "        return output.loss, output.logits\n",
    "    \n",
    "    def training_step(self, batch, batch_idx):\n",
    "\n",
    "        input_ids = batch[\"input_ids\"]\n",
    "        attention_mask = batch[\"attention_mask\"]\n",
    "        labels= batch[\"target\"]\n",
    "        loss, logits = self(input_ids , attention_mask, labels)\n",
    "\n",
    "        \n",
    "        self.log(\"train_loss\", loss, prog_bar=True, logger=True)\n",
    "\n",
    "        return {'loss': loss}\n",
    "    \n",
    "    def validation_step(self, batch, batch_idx):\n",
    "        input_ids = batch[\"input_ids\"]\n",
    "        attention_mask = batch[\"attention_mask\"]\n",
    "        labels= batch[\"target\"]\n",
    "        loss, logits = self(input_ids, attention_mask, labels)\n",
    "        print(loss)\n",
    "        print(logits)\n",
    "        self.log(\"val_loss\", loss, prog_bar=True, logger=True)\n",
    "        \n",
    "        return {'val_loss': loss}\n",
    "\n",
    "    def configure_optimizers(self):\n",
    "        return AdamW(self.parameters(), lr=0.0001)"
   ]
  },
  {
   "cell_type": "markdown",
   "metadata": {
    "_cell_guid": "cbb6c947-399a-41a8-b2a6-1688a29719a1",
    "_uuid": "91ab2eb7-bced-46f7-952b-822b8b1ae70f"
   },
   "source": [
    "# Final Training Step"
   ]
  },
  {
   "cell_type": "code",
   "execution_count": 12,
   "metadata": {
    "_cell_guid": "7098616e-0693-4203-951b-f314beab88d1",
    "_uuid": "0c1546fa-30c0-4670-9cc9-97cfd6f4d364",
    "execution": {
     "iopub.execute_input": "2023-04-25T12:55:00.523068Z",
     "iopub.status.busy": "2023-04-25T12:55:00.522359Z",
     "iopub.status.idle": "2023-04-25T12:56:04.584683Z",
     "shell.execute_reply": "2023-04-25T12:56:04.581712Z",
     "shell.execute_reply.started": "2023-04-25T12:55:00.523010Z"
    },
    "jupyter": {
     "outputs_hidden": false
    }
   },
   "outputs": [
    {
     "data": {
      "application/vnd.jupyter.widget-view+json": {
       "model_id": "84053647a3eb49e198dbf15df8fb2057",
       "version_major": 2,
       "version_minor": 0
      },
      "text/plain": [
       "Downloading (…)\"pytorch_model.bin\";:   0%|          | 0.00/892M [00:00<?, ?B/s]"
      ]
     },
     "metadata": {},
     "output_type": "display_data"
    },
    {
     "data": {
      "application/vnd.jupyter.widget-view+json": {
       "model_id": "fbc9cf2699794c158644215734e3c600",
       "version_major": 2,
       "version_minor": 0
      },
      "text/plain": [
       "Downloading (…)neration_config.json:   0%|          | 0.00/147 [00:00<?, ?B/s]"
      ]
     },
     "metadata": {},
     "output_type": "display_data"
    },
    {
     "data": {
      "application/vnd.jupyter.widget-view+json": {
       "model_id": "",
       "version_major": 2,
       "version_minor": 0
      },
      "text/plain": [
       "Sanity Checking: 0it [00:00, ?it/s]"
      ]
     },
     "metadata": {},
     "output_type": "display_data"
    },
    {
     "name": "stdout",
     "output_type": "stream",
     "text": [
      "tensor(13.5540, device='cuda:0')\n",
      "tensor([[[-28.8281, -22.5195, -24.5901,  ..., -60.4692, -60.3163, -60.4748],\n",
      "         [-30.5674, -10.5226,  -2.1703,  ..., -37.1412, -36.9600, -36.9380],\n",
      "         [-22.1129,  -9.0042,  -7.2849,  ..., -37.7123, -37.6336, -37.7268],\n",
      "         ...,\n",
      "         [-15.1206, -13.9283, -14.7396,  ..., -43.6271, -43.4374, -43.5475],\n",
      "         [-15.1341, -14.0693, -14.7095,  ..., -43.7636, -43.5674, -43.6765],\n",
      "         [-15.1459, -14.1073, -14.7553,  ..., -43.8822, -43.6805, -43.7898]],\n",
      "\n",
      "        [[-27.0475, -21.3786, -21.9397,  ..., -58.6131, -58.6086, -58.8206],\n",
      "         [-24.5903,  -7.7264,  -5.4532,  ..., -35.2017, -35.1940, -35.2603],\n",
      "         [-26.0001, -10.5760,  -8.8694,  ..., -38.8787, -38.8642, -38.9490],\n",
      "         ...,\n",
      "         [-15.5826, -13.6136, -13.8259,  ..., -44.0200, -43.9822, -44.1078],\n",
      "         [-16.0070, -13.9721, -14.1506,  ..., -44.6510, -44.6120, -44.7436],\n",
      "         [-16.4195, -14.3096, -14.4565,  ..., -45.2765, -45.2372, -45.3736]]],\n",
      "       device='cuda:0')\n",
      "tensor(19.0521, device='cuda:0')\n",
      "tensor([[[-30.2974, -23.7748, -25.7817,  ..., -63.7493, -63.6363, -63.7976],\n",
      "         [-22.2958,  -6.8736,  -8.2879,  ..., -38.7869, -38.5816, -38.5812],\n",
      "         [-23.2274,  -9.0515,  -7.0569,  ..., -36.1466, -36.1505, -36.0845],\n",
      "         ...,\n",
      "         [-22.4282, -19.3071, -21.0902,  ..., -55.0425, -54.9332, -55.0572],\n",
      "         [-22.9032, -19.5584, -21.3772,  ..., -55.6203, -55.5113, -55.6369],\n",
      "         [-23.3412, -19.7991, -21.6435,  ..., -56.1561, -56.0474, -56.1749]],\n",
      "\n",
      "        [[-35.8406, -29.2969, -28.7420,  ..., -69.3183, -69.2935, -69.5211],\n",
      "         [-21.6059,  -7.5950,  -5.3564,  ..., -35.6218, -35.7681, -35.7330],\n",
      "         [-49.6042, -20.8282, -18.4684,  ..., -60.7587, -60.8653, -60.9783],\n",
      "         ...,\n",
      "         [-20.9458, -19.1096, -18.6259,  ..., -49.6783, -49.7331, -49.8105],\n",
      "         [-21.7720, -19.6766, -19.0877,  ..., -50.6368, -50.6840, -50.7723],\n",
      "         [-22.6796, -20.4047, -19.7177,  ..., -51.8771, -51.9171, -52.0167]]],\n",
      "       device='cuda:0')\n"
     ]
    },
    {
     "data": {
      "application/vnd.jupyter.widget-view+json": {
       "model_id": "3eeca84e4925406ca5474ad86ed803ac",
       "version_major": 2,
       "version_minor": 0
      },
      "text/plain": [
       "Training: 0it [00:00, ?it/s]"
      ]
     },
     "metadata": {},
     "output_type": "display_data"
    },
    {
     "data": {
      "application/vnd.jupyter.widget-view+json": {
       "model_id": "",
       "version_major": 2,
       "version_minor": 0
      },
      "text/plain": [
       "Validation: 0it [00:00, ?it/s]"
      ]
     },
     "metadata": {},
     "output_type": "display_data"
    },
    {
     "name": "stdout",
     "output_type": "stream",
     "text": [
      "tensor(0.7100, device='cuda:0')\n",
      "tensor([[[ -6.5540, -12.5442, -13.8147,  ..., -39.1567, -39.0477, -39.0855],\n",
      "         [-21.1136,  -8.8276,  -1.0379,  ..., -35.6668, -35.5168, -35.4629],\n",
      "         [-13.2914,  -7.6071,  -5.7386,  ..., -35.2460, -35.1324, -35.1784],\n",
      "         ...,\n",
      "         [  2.5282,  -8.7571,  -8.3377,  ..., -31.9145, -31.7654, -31.8451],\n",
      "         [  2.2837,  -8.9166,  -8.2933,  ..., -32.0150, -31.8637, -31.9422],\n",
      "         [  2.1888,  -8.8612,  -8.2882,  ..., -31.9897, -31.8367, -31.9145]],\n",
      "\n",
      "        [[ -1.5027,  -9.7580, -10.2607,  ..., -34.1582, -34.0939, -34.1474],\n",
      "         [-15.7506,  -8.0395,  -3.8009,  ..., -35.1546, -35.0969, -35.0910],\n",
      "         [-15.5355,  -9.6283,  -6.6959,  ..., -36.3320, -36.3034, -36.2730],\n",
      "         ...,\n",
      "         [  2.6859,  -7.5692,  -6.8998,  ..., -30.0998, -30.0425, -30.0638],\n",
      "         [  2.6583,  -7.5704,  -6.9327,  ..., -30.0379, -29.9802, -30.0033],\n",
      "         [  2.6283,  -7.5703,  -6.9653,  ..., -29.9929, -29.9347, -29.9595]]],\n",
      "       device='cuda:0')\n",
      "tensor(0.7537, device='cuda:0')\n",
      "tensor([[[ -5.5426, -11.6894, -13.6081,  ..., -38.6583, -38.5339, -38.5832],\n",
      "         [-13.2828,  -6.8911,  -6.2033,  ..., -36.2785, -36.0731, -36.0572],\n",
      "         [-16.0735,  -8.5012,  -4.3452,  ..., -34.8088, -34.7626, -34.6748],\n",
      "         ...,\n",
      "         [  0.3445,  -8.5876,  -9.2925,  ..., -32.6375, -32.5196, -32.5541],\n",
      "         [  0.2127,  -8.6562,  -9.4126,  ..., -32.7834, -32.6652, -32.7006],\n",
      "         [  0.0884,  -8.7181,  -9.5204,  ..., -32.9148, -32.7962, -32.8324]],\n",
      "\n",
      "        [[ -3.1409, -10.0387,  -9.6042,  ..., -33.5310, -33.5775, -33.5892],\n",
      "         [-13.8870,  -7.1893,  -3.3008,  ..., -35.4589, -35.5248, -35.4418],\n",
      "         [-25.4770, -12.2945,  -8.2461,  ..., -44.5518, -44.5868, -44.5903],\n",
      "         ...,\n",
      "         [  2.3741,  -7.3963,  -6.4581,  ..., -30.9883, -30.9962, -30.9926],\n",
      "         [  2.3796,  -7.3839,  -6.4666,  ..., -30.7067, -30.7157, -30.7116],\n",
      "         [  2.3697,  -7.3695,  -6.4744,  ..., -30.5236, -30.5327, -30.5288]]],\n",
      "       device='cuda:0')\n",
      "tensor(1.8135, device='cuda:0')\n",
      "tensor([[[ -2.4019, -10.4816, -11.0101,  ..., -35.5441, -35.4099, -35.4932],\n",
      "         [-10.2541,  -7.5399,  -4.8105,  ..., -35.8736, -35.7391, -35.7401],\n",
      "         [-10.6733,  -1.3788,  -5.9171,  ..., -34.6085, -34.4895, -34.4504],\n",
      "         ...,\n",
      "         [  3.6016,  -8.6560,  -7.3239,  ..., -33.0479, -32.9217, -32.9940],\n",
      "         [  3.6942,  -8.7126,  -7.3165,  ..., -32.8904, -32.7670, -32.8414],\n",
      "         [  3.7392,  -8.6573,  -7.2980,  ..., -32.7379, -32.6181, -32.6889]],\n",
      "\n",
      "        [[ -7.2965, -12.2357, -14.0650,  ..., -39.4325, -39.3061, -39.3503],\n",
      "         [-15.8498,  -9.1865,  -7.6035,  ..., -37.9877, -37.8206, -37.8347],\n",
      "         [-19.6680,  -1.8332, -11.8705,  ..., -41.2612, -41.1934, -41.0698],\n",
      "         ...,\n",
      "         [ -3.0177, -11.1091, -11.8281,  ..., -37.1684, -37.0491, -37.0777],\n",
      "         [ -3.1683, -11.1398, -11.9076,  ..., -37.2486, -37.1285, -37.1585],\n",
      "         [ -3.3081, -11.1703, -11.9820,  ..., -37.3217, -37.2006, -37.2318]]],\n",
      "       device='cuda:0')\n",
      "tensor(1.1789, device='cuda:0')\n",
      "tensor([[[ -2.4019, -10.4816, -11.0101,  ..., -35.5441, -35.4099, -35.4932],\n",
      "         [-10.2541,  -7.5399,  -4.8105,  ..., -35.8736, -35.7391, -35.7401],\n",
      "         [-10.6733,  -1.3788,  -5.9171,  ..., -34.6085, -34.4895, -34.4504],\n",
      "         ...,\n",
      "         [  3.6016,  -8.6560,  -7.3239,  ..., -33.0479, -32.9217, -32.9940],\n",
      "         [  3.6942,  -8.7126,  -7.3165,  ..., -32.8904, -32.7670, -32.8414],\n",
      "         [  3.7392,  -8.6573,  -7.2980,  ..., -32.7379, -32.6181, -32.6889]],\n",
      "\n",
      "        [[ -5.5426, -11.6894, -13.6081,  ..., -38.6583, -38.5339, -38.5832],\n",
      "         [-13.2828,  -6.8911,  -6.2033,  ..., -36.2785, -36.0731, -36.0572],\n",
      "         [-16.0735,  -8.5012,  -4.3452,  ..., -34.8088, -34.7626, -34.6748],\n",
      "         ...,\n",
      "         [  0.3445,  -8.5876,  -9.2925,  ..., -32.6375, -32.5196, -32.5541],\n",
      "         [  0.2127,  -8.6562,  -9.4126,  ..., -32.7834, -32.6652, -32.7006],\n",
      "         [  0.0884,  -8.7181,  -9.5204,  ..., -32.9148, -32.7962, -32.8324]]],\n",
      "       device='cuda:0')\n",
      "tensor(0.6729, device='cuda:0')\n",
      "tensor([[[ -3.3459, -10.4324, -11.7759,  ..., -36.6938, -36.6025, -36.6224],\n",
      "         [-16.8022,  -8.9861,  -0.4674,  ..., -35.0619, -34.9678, -34.8797],\n",
      "         [-10.9651,  -8.4136,  -5.3212,  ..., -35.6881, -35.5464, -35.5315],\n",
      "         ...,\n",
      "         [  1.5308,  -9.0911,  -7.7735,  ..., -32.5998, -32.4748, -32.4951],\n",
      "         [  1.6518,  -9.0008,  -7.7230,  ..., -32.4989, -32.3743, -32.4029],\n",
      "         [  1.7188,  -8.9723,  -7.8060,  ..., -32.5481, -32.4275, -32.4589]],\n",
      "\n",
      "        [[ -3.7031, -10.9484, -10.6331,  ..., -35.4297, -35.3231, -35.3578],\n",
      "         [-14.1648,  -7.4156,  -6.5135,  ..., -37.0349, -36.8120, -36.8293],\n",
      "         [-12.7960,  -6.4368,  -5.4742,  ..., -35.2367, -35.0835, -35.0829],\n",
      "         ...,\n",
      "         [  1.3349,  -9.0466,  -7.4512,  ..., -33.1199, -33.0048, -33.0404],\n",
      "         [  1.3065,  -9.0325,  -7.4978,  ..., -33.0273, -32.9124, -32.9460],\n",
      "         [  1.2821,  -9.0187,  -7.5417,  ..., -32.9602, -32.8454, -32.8777]]],\n",
      "       device='cuda:0')\n",
      "tensor(1.0145, device='cuda:0')\n",
      "tensor([[[ -2.0049,  -9.9168, -10.1947,  ..., -33.7065, -33.5983, -33.6203],\n",
      "         [-13.6450,  -7.2558,  -2.8373,  ..., -34.9578, -34.9024, -34.8119],\n",
      "         [-28.2869, -14.5714, -10.7631,  ..., -48.2910, -48.1936, -48.2590],\n",
      "         ...,\n",
      "         [  2.6423,  -8.0083,  -7.0020,  ..., -31.7792, -31.6766, -31.7358],\n",
      "         [  2.8289,  -7.9068,  -7.0281,  ..., -31.7333, -31.6308, -31.6875],\n",
      "         [  2.8192,  -7.9414,  -7.1311,  ..., -31.7917, -31.6959, -31.7466]],\n",
      "\n",
      "        [[ -3.9074, -11.9340, -12.5850,  ..., -38.3111, -38.1948, -38.2674],\n",
      "         [-17.2733,  -8.5778,  -1.6740,  ..., -35.3200, -35.2947, -35.1838],\n",
      "         [-10.1271,  -7.4083,  -5.8040,  ..., -35.5008, -35.4297, -35.4158],\n",
      "         ...,\n",
      "         [  3.5015,  -8.4926,  -8.0095,  ..., -32.6349, -32.4990, -32.6151],\n",
      "         [  3.3678,  -8.4019,  -7.9185,  ..., -32.5643, -32.4336, -32.5488],\n",
      "         [  3.3739,  -8.5565,  -7.8361,  ..., -32.5463, -32.4157, -32.5284]]],\n",
      "       device='cuda:0')\n",
      "tensor(0.7320, device='cuda:0')\n",
      "tensor([[[ -2.3966,  -9.1605,  -9.0023,  ..., -33.6346, -33.5707, -33.5904],\n",
      "         [-13.9832, -10.2893,  -6.4962,  ..., -38.5292, -38.4237, -38.3712],\n",
      "         [-19.8724, -12.6369, -10.3773,  ..., -44.7578, -44.4757, -44.6085],\n",
      "         ...,\n",
      "         [  1.8106,  -8.2021,  -7.5325,  ..., -33.6756, -33.5747, -33.6268],\n",
      "         [  1.8242,  -8.1035,  -7.4400,  ..., -33.3931, -33.2933, -33.3421],\n",
      "         [  1.8290,  -8.0277,  -7.3736,  ..., -33.1788, -33.0803, -33.1268]],\n",
      "\n",
      "        [[ -5.4942, -12.1851, -11.5133,  ..., -39.2200, -39.1666, -39.1963],\n",
      "         [-13.9850,  -7.1516,  -2.3623,  ..., -33.2977, -33.3474, -33.2247],\n",
      "         [-29.4834, -13.6489,  -9.4556,  ..., -47.3110, -47.2519, -47.3182],\n",
      "         ...,\n",
      "         [  1.2448,  -8.9479,  -7.4050,  ..., -31.9266, -31.8733, -31.8761],\n",
      "         [  1.1968,  -8.9698,  -7.4613,  ..., -31.9706, -31.9166, -31.9192],\n",
      "         [  1.1410,  -8.9844,  -7.5094,  ..., -32.0029, -31.9479, -31.9504]]],\n",
      "       device='cuda:0')\n",
      "tensor(0.5710, device='cuda:0')\n",
      "tensor([[[ -2.9091,  -9.7023,  -9.4163,  ..., -33.6508, -33.6009, -33.6176],\n",
      "         [-16.2719,  -8.5359,  -4.3127,  ..., -36.0999, -36.0163, -36.0015],\n",
      "         [-18.0943, -10.7276,  -5.8237,  ..., -40.3215, -40.1269, -40.1728],\n",
      "         ...,\n",
      "         [  2.3815,  -7.6283,  -6.3835,  ..., -31.6479, -31.5692, -31.6083],\n",
      "         [  2.3313,  -7.6412,  -6.3953,  ..., -31.5473, -31.4696, -31.5069],\n",
      "         [  2.2776,  -7.6541,  -6.4115,  ..., -31.4692, -31.3926, -31.4285]],\n",
      "\n",
      "        [[ -3.8524, -11.6709, -10.0417,  ..., -36.2959, -36.1726, -36.2596],\n",
      "         [-13.5981, -10.0160,  -7.1774,  ..., -39.1464, -38.9115, -38.9193],\n",
      "         [-11.5667,  -8.3043,  -5.8934,  ..., -37.5857, -37.4329, -37.3978],\n",
      "         ...,\n",
      "         [  0.9314, -10.4866,  -7.5982,  ..., -35.3470, -35.2365, -35.2839],\n",
      "         [  1.0199, -10.4432,  -7.5753,  ..., -35.1294, -35.0208, -35.0661],\n",
      "         [  1.0981, -10.4004,  -7.5550,  ..., -34.9454, -34.8382, -34.8816]]],\n",
      "       device='cuda:0')\n",
      "tensor(0.5868, device='cuda:0')\n",
      "tensor([[[ -1.5708, -10.7302, -10.9627,  ..., -35.8938, -35.8541, -35.8797],\n",
      "         [ -7.0565,  -6.2632,  -5.8064,  ..., -29.9001, -29.8701, -29.8523],\n",
      "         [-24.9178, -15.3391, -13.1622,  ..., -43.7481, -43.6575, -43.7154],\n",
      "         ...,\n",
      "         [  4.4082,  -8.8715,  -8.7417,  ..., -34.4945, -34.4767, -34.4667],\n",
      "         [  4.3040,  -8.8153,  -8.6628,  ..., -34.4457, -34.4190, -34.4155],\n",
      "         [  4.2337,  -8.5989,  -8.5173,  ..., -34.1512, -34.1221, -34.1168]],\n",
      "\n",
      "        [[ -2.9767, -10.3254, -10.3592,  ..., -35.4561, -35.3661, -35.4015],\n",
      "         [-15.2906,  -6.6732,  -4.6935,  ..., -33.8528, -33.8947, -33.9144],\n",
      "         [-16.3591,  -9.7129,  -5.9114,  ..., -34.4259, -34.4729, -34.3934],\n",
      "         ...,\n",
      "         [  1.3305,  -8.1926,  -7.7413,  ..., -32.2615, -32.1885, -32.1927],\n",
      "         [  1.2665,  -8.2372,  -7.7858,  ..., -32.2934, -32.2199, -32.2241],\n",
      "         [  1.2052,  -8.2789,  -7.8289,  ..., -32.3294, -32.2555, -32.2596]]],\n",
      "       device='cuda:0')\n",
      "tensor(0.8997, device='cuda:0')\n",
      "tensor([[[ -1.5235,  -9.7403,  -9.6118,  ..., -33.6740, -33.5558, -33.6199],\n",
      "         [-14.6725,  -8.3358,  -6.1572,  ..., -33.2187, -33.1383, -33.1433],\n",
      "         [-15.5037,  -9.2109,  -6.7133,  ..., -36.0098, -36.0539, -36.0068],\n",
      "         ...,\n",
      "         [  3.3420,  -7.5709,  -6.4360,  ..., -30.9842, -30.8770, -30.9368],\n",
      "         [  3.3199,  -7.5989,  -6.5169,  ..., -31.1371, -31.0367, -31.0933],\n",
      "         [  3.4142,  -7.3964,  -6.4928,  ..., -31.2283, -31.1340, -31.1887]],\n",
      "\n",
      "        [[ -5.3479, -13.8802, -13.5484,  ..., -40.7113, -40.6146, -40.6928],\n",
      "         [ -9.7389,  -5.2995,  -5.6324,  ..., -30.9468, -30.8960, -30.8474],\n",
      "         [-24.0416, -15.7139, -11.5808,  ..., -43.2231, -43.0831, -43.3181],\n",
      "         ...,\n",
      "         [  2.2496,  -9.1023,  -7.6941,  ..., -34.4188, -34.3331, -34.3381],\n",
      "         [  2.4453,  -8.9710,  -7.6580,  ..., -34.2502, -34.1636, -34.1779],\n",
      "         [  2.3896,  -8.9416,  -7.5668,  ..., -34.2199, -34.1344, -34.1561]]],\n",
      "       device='cuda:0')\n",
      "tensor(0.6446, device='cuda:0')\n",
      "tensor([[[ -3.6376, -11.8268, -11.6195,  ..., -36.7197, -36.7048, -36.7519],\n",
      "         [-11.4758,  -9.6364,  -5.4098,  ..., -35.3360, -35.2312, -35.2165],\n",
      "         [-13.6229,  -5.1542,  -6.8931,  ..., -35.1557, -35.2207, -35.0973],\n",
      "         ...,\n",
      "         [  1.2586, -10.5919,  -9.6334,  ..., -34.6729, -34.6500, -34.6776],\n",
      "         [  1.1607, -10.6285,  -9.6701,  ..., -34.6647, -34.6420, -34.6692],\n",
      "         [  1.0688, -10.6574,  -9.7045,  ..., -34.6561, -34.6337, -34.6606]],\n",
      "\n",
      "        [[ -2.9432, -10.7318,  -9.9409,  ..., -34.4012, -34.3591, -34.3238],\n",
      "         [-11.4539,  -8.3181,  -5.8405,  ..., -35.0707, -34.9718, -34.9334],\n",
      "         [ -9.0431,  -6.5241,  -5.1294,  ..., -32.4434, -32.4423, -32.3297],\n",
      "         ...,\n",
      "         [  1.5453,  -8.9286,  -6.9533,  ..., -33.2328, -33.1695, -33.1810],\n",
      "         [  1.6273,  -8.8769,  -6.9427,  ..., -33.0417, -32.9774, -32.9860],\n",
      "         [  1.6849,  -8.8407,  -6.9424,  ..., -32.8846, -32.8193, -32.8256]]],\n",
      "       device='cuda:0')\n",
      "tensor(0.7458, device='cuda:0')\n",
      "tensor([[[ -5.5961, -12.0888, -12.4753,  ..., -37.9283, -37.9310, -37.9610],\n",
      "         [-18.1848,  -7.8318,  -4.5840,  ..., -34.2046, -34.0992, -34.0249],\n",
      "         [-16.3356,  -8.7186,  -5.8451,  ..., -34.0583, -34.0129, -33.9301],\n",
      "         ...,\n",
      "         [  1.8019,  -7.6628,  -6.8141,  ..., -31.9693, -31.8889, -31.9460],\n",
      "         [  1.8265,  -7.8808,  -6.6479,  ..., -31.7719, -31.6852, -31.7470],\n",
      "         [  1.7635,  -7.8515,  -6.7620,  ..., -31.5037, -31.4158, -31.4791]],\n",
      "\n",
      "        [[ -3.1282, -11.4027, -11.5179,  ..., -36.9833, -36.9280, -36.9595],\n",
      "         [-14.2200,  -6.2005,  -4.9383,  ..., -32.8162, -32.9192, -32.9065],\n",
      "         [-15.9672,  -9.3178,  -5.8733,  ..., -34.0352, -34.1184, -34.0409],\n",
      "         ...,\n",
      "         [  1.4317,  -8.8834,  -8.5246,  ..., -32.9696, -32.9424, -32.9349],\n",
      "         [  1.3485,  -8.9512,  -8.5974,  ..., -33.0418, -33.0142, -33.0067],\n",
      "         [  1.2594,  -9.0251,  -8.6764,  ..., -33.1347, -33.1065, -33.0995]]],\n",
      "       device='cuda:0')\n",
      "tensor(1.2248, device='cuda:0')\n",
      "tensor([[[ -1.4958,  -9.4757,  -9.4658,  ..., -33.9059, -33.8104, -33.8336],\n",
      "         [-11.7293,  -7.1135,  -6.0092,  ..., -35.2637, -35.0767, -35.0388],\n",
      "         [ -9.9817,  -5.1477,  -5.5026,  ..., -32.7897, -32.6809, -32.6321],\n",
      "         ...,\n",
      "         [  2.8450,  -7.8051,  -6.4270,  ..., -31.4162, -31.3165, -31.3324],\n",
      "         [  2.8284,  -7.7828,  -6.4395,  ..., -31.3539, -31.2545, -31.2689],\n",
      "         [  2.8106,  -7.7656,  -6.4538,  ..., -31.3075, -31.2080, -31.2212]],\n",
      "\n",
      "        [[ -5.6965, -12.3719, -12.2856,  ..., -37.9033, -37.8147, -37.8872],\n",
      "         [-11.1600,  -7.3821,  -5.7048,  ..., -30.5063, -30.5103, -30.4275],\n",
      "         [-15.4132,  -9.8366,  -6.0497,  ..., -33.8535, -33.7621, -33.7549],\n",
      "         ...,\n",
      "         [  0.3024,  -8.3868,  -7.1347,  ..., -33.5038, -33.4452, -33.4785],\n",
      "         [  0.3226,  -8.1602,  -7.1475,  ..., -33.5429, -33.4858, -33.5141],\n",
      "         [  0.5446,  -8.0716,  -7.0119,  ..., -33.3984, -33.3361, -33.3679]]],\n",
      "       device='cuda:0')\n"
     ]
    }
   ],
   "source": [
    "def run():\n",
    "    df_train, df_test = train_test_split(data,test_size = 0.2, random_state=100)\n",
    "    dataload = T5DataLoad(df_train,df_test)\n",
    "    dataload.setup()\n",
    "    device = DEVICE\n",
    "    model = T5Model()\n",
    "    model.to(device)\n",
    "    \n",
    "    checkpoint = ModelCheckpoint(\n",
    "        dirpath=\"/kaggle/working\",\n",
    "        filename='best-model',\n",
    "        save_top_k=2,\n",
    "        verbose=True,\n",
    "        monitor=\"val_loss\",\n",
    "        mode=\"min\"\n",
    "    )\n",
    "    trainer = pl.Trainer(\n",
    "        callbacks = checkpoint,\n",
    "        max_epochs= 1,\n",
    "        gpus=1,\n",
    "        accelerator=\"gpu\"\n",
    "    )\n",
    "    trainer.fit(model, dataload)\n",
    "run()"
   ]
  },
  {
   "cell_type": "code",
   "execution_count": 13,
   "metadata": {
    "_cell_guid": "d57af46b-c065-495b-a047-4387c4e118fb",
    "_uuid": "2a0e66e9-4bba-4037-b23a-3a46792da800",
    "execution": {
     "iopub.execute_input": "2023-04-25T12:56:04.591497Z",
     "iopub.status.busy": "2023-04-25T12:56:04.589163Z",
     "iopub.status.idle": "2023-04-25T12:56:30.220151Z",
     "shell.execute_reply": "2023-04-25T12:56:30.218960Z",
     "shell.execute_reply.started": "2023-04-25T12:56:04.591430Z"
    },
    "jupyter": {
     "outputs_hidden": false
    }
   },
   "outputs": [],
   "source": [
    "train_model = T5Model.load_from_checkpoint('/kaggle/working/best-model.ckpt')\n",
    "train_model.freeze()\n",
    "\n",
    "def generate_question(question):\n",
    "\n",
    "    inputs_encoding =  tokenizer(\n",
    "        question,\n",
    "        add_special_tokens=True,\n",
    "        max_length= INPUT_MAX_LEN,\n",
    "        padding = 'max_length',\n",
    "        truncation='only_first',\n",
    "        return_attention_mask=True,\n",
    "        return_tensors=\"pt\"\n",
    "        )\n",
    "\n",
    "    \n",
    "    generate_ids = train_model.model.generate(\n",
    "        input_ids = inputs_encoding[\"input_ids\"],\n",
    "        attention_mask = inputs_encoding[\"attention_mask\"],\n",
    "        max_length = INPUT_MAX_LEN,\n",
    "        num_beams = 4,\n",
    "        num_return_sequences = 1,\n",
    "        no_repeat_ngram_size=2,\n",
    "        early_stopping=True,\n",
    "        )\n",
    "\n",
    "    preds = [\n",
    "        tokenizer.decode(gen_id,\n",
    "        skip_special_tokens=True, \n",
    "        clean_up_tokenization_spaces=True)\n",
    "        for gen_id in generate_ids\n",
    "    ]\n",
    "\n",
    "    return \"\".join(preds)"
   ]
  },
  {
   "cell_type": "code",
   "execution_count": 19,
   "metadata": {
    "execution": {
     "iopub.execute_input": "2023-04-25T12:58:19.949003Z",
     "iopub.status.busy": "2023-04-25T12:58:19.948279Z",
     "iopub.status.idle": "2023-04-25T12:58:19.955730Z",
     "shell.execute_reply": "2023-04-25T12:58:19.954532Z",
     "shell.execute_reply.started": "2023-04-25T12:58:19.948964Z"
    }
   },
   "outputs": [],
   "source": []
  },
  {
   "cell_type": "code",
   "execution_count": null,
   "metadata": {},
   "outputs": [],
   "source": []
  },
  {
   "cell_type": "markdown",
   "metadata": {
    "execution": {
     "iopub.execute_input": "2023-04-25T13:09:38.282833Z",
     "iopub.status.busy": "2023-04-25T13:09:38.282106Z",
     "iopub.status.idle": "2023-04-25T13:09:38.293547Z",
     "shell.execute_reply": "2023-04-25T13:09:38.292457Z",
     "shell.execute_reply.started": "2023-04-25T13:09:38.282797Z"
    }
   },
   "source": [
    "We have taken the test dataset manually, While evaluating the model we have randomly choosen three questions from our test dataset and evaulated our model."
   ]
  },
  {
   "cell_type": "markdown",
   "metadata": {
    "_cell_guid": "f6f00091-f548-4430-a32c-878cf85d78e5",
    "_uuid": "07611fc3-d3e5-4c93-88ca-e0021b372003"
   },
   "source": [
    "# Model Evaluation"
   ]
  },
  {
   "cell_type": "code",
   "execution_count": 27,
   "metadata": {
    "_cell_guid": "d3689167-7e80-4920-bebe-9667c279def5",
    "_uuid": "561a0649-7d86-4813-8e8e-02c1187b87d6",
    "execution": {
     "iopub.execute_input": "2023-04-25T14:01:16.474660Z",
     "iopub.status.busy": "2023-04-25T14:01:16.473472Z",
     "iopub.status.idle": "2023-04-25T14:01:18.172146Z",
     "shell.execute_reply": "2023-04-25T14:01:18.171030Z",
     "shell.execute_reply.started": "2023-04-25T14:01:16.474617Z"
    },
    "jupyter": {
     "outputs_hidden": false
    }
   },
   "outputs": [
    {
     "name": "stdout",
     "output_type": "stream",
     "text": [
      "Ques:  what are the popular programs in that fields?\n",
      "BOT:  are the most popular programs in that field?\n"
     ]
    }
   ],
   "source": [
    "ques = \"what are the popular programs in that fields?\"\n",
    "print(\"Ques: \",ques)\n",
    "print(\"BOT: \",generate_question(ques))"
   ]
  },
  {
   "cell_type": "code",
   "execution_count": 28,
   "metadata": {
    "_cell_guid": "42556c0f-47b3-43e3-aff3-34dddb55878e",
    "_uuid": "cdadb096-9e29-4576-8321-7efc7d0d0982",
    "execution": {
     "iopub.execute_input": "2023-04-25T14:01:22.381351Z",
     "iopub.status.busy": "2023-04-25T14:01:22.380307Z",
     "iopub.status.idle": "2023-04-25T14:01:24.235338Z",
     "shell.execute_reply": "2023-04-25T14:01:24.234100Z",
     "shell.execute_reply.started": "2023-04-25T14:01:22.381313Z"
    },
    "jupyter": {
     "outputs_hidden": false
    }
   },
   "outputs": [
    {
     "name": "stdout",
     "output_type": "stream",
     "text": [
      "Ques:  Im looking for a graduate program in the LAW. Does Yale offer any programs in that area? \n",
      "BOT:  i am looking for a law degree.\n"
     ]
    }
   ],
   "source": [
    "ques = \"Im looking for a graduate program in the LAW. Does Yale offer any programs in that area? \"\n",
    "print(\"Ques: \",ques)\n",
    "print(\"BOT: \",generate_question(ques))"
   ]
  },
  {
   "cell_type": "code",
   "execution_count": 29,
   "metadata": {
    "_cell_guid": "389d13fe-77e1-43cb-a690-516d64be61b3",
    "_uuid": "b10eac77-0a75-4879-8b3d-033502bbcd3e",
    "execution": {
     "iopub.execute_input": "2023-04-25T14:01:28.637882Z",
     "iopub.status.busy": "2023-04-25T14:01:28.637493Z",
     "iopub.status.idle": "2023-04-25T14:01:30.625908Z",
     "shell.execute_reply": "2023-04-25T14:01:30.624631Z",
     "shell.execute_reply.started": "2023-04-25T14:01:28.637849Z"
    },
    "jupyter": {
     "outputs_hidden": false
    }
   },
   "outputs": [
    {
     "name": "stdout",
     "output_type": "stream",
     "text": [
      "Ques:  What is the application process like for Yale graduate programs?\n",
      "BOT:  What is the application process like for Yale graduate programs?\n"
     ]
    }
   ],
   "source": [
    "ques = \"What is the application process like for Yale graduate programs?\"\n",
    "print(\"Ques: \",ques)\n",
    "print(\"BOT: \",generate_question(ques))"
   ]
  },
  {
   "cell_type": "code",
   "execution_count": null,
   "metadata": {},
   "outputs": [],
   "source": []
  },
  {
   "cell_type": "code",
   "execution_count": null,
   "metadata": {},
   "outputs": [],
   "source": []
  },
  {
   "cell_type": "code",
   "execution_count": null,
   "metadata": {},
   "outputs": [],
   "source": []
  },
  {
   "cell_type": "code",
   "execution_count": null,
   "metadata": {},
   "outputs": [],
   "source": []
  }
 ],
 "metadata": {
  "kernelspec": {
   "display_name": "Python 3 (ipykernel)",
   "language": "python",
   "name": "python3"
  },
  "language_info": {
   "codemirror_mode": {
    "name": "ipython",
    "version": 3
   },
   "file_extension": ".py",
   "mimetype": "text/x-python",
   "name": "python",
   "nbconvert_exporter": "python",
   "pygments_lexer": "ipython3",
   "version": "3.9.13"
  }
 },
 "nbformat": 4,
 "nbformat_minor": 4
}
